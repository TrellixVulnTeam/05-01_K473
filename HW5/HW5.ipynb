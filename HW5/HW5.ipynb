{
 "cells": [
  {
   "cell_type": "code",
   "execution_count": 60,
   "metadata": {},
   "outputs": [],
   "source": [
    "def add(arg1,arg2):\n",
    "    \n",
    "    print(int(arg1)+int(arg2))"
   ]
  },
  {
   "cell_type": "code",
   "execution_count": 61,
   "metadata": {
    "collapsed": true
   },
   "outputs": [],
   "source": [
    "def sub(arg1,arg2):\n",
    "    print(int(arg1)-int(arg2))"
   ]
  },
  {
   "cell_type": "code",
   "execution_count": 62,
   "metadata": {
    "collapsed": true
   },
   "outputs": [],
   "source": [
    "def mul(arg1,arg2):\n",
    "    print(int(arg1)*int(arg2))"
   ]
  },
  {
   "cell_type": "code",
   "execution_count": 63,
   "metadata": {
    "collapsed": true
   },
   "outputs": [],
   "source": [
    "def div(arg1,arg2):\n",
    "    print(int(arg1)/int(arg2))"
   ]
  },
  {
   "cell_type": "code",
   "execution_count": 64,
   "metadata": {
    "collapsed": true
   },
   "outputs": [],
   "source": [
    "def cal():\n",
    "    arg1 = input(\"請輸入第一個運算元\")\n",
    "    arg2 = input(\"請輸入運算子\")\n",
    "    arg3 = input(\"請輸入第二個運算元\")\n",
    "    if arg2 == \"+\":\n",
    "        add(arg1,arg3)\n",
    "    if arg2 == \"-\":\n",
    "        sub(arg1,arg3)\n",
    "    if arg2 == \"*\":\n",
    "        mul(arg1,arg3)\n",
    "    if arg2 == \"/\":\n",
    "        div(arg1,arg3)"
   ]
  },
  {
   "cell_type": "code",
   "execution_count": 66,
   "metadata": {},
   "outputs": [
    {
     "name": "stdout",
     "output_type": "stream",
     "text": [
      "請輸入第一個運算元5\n",
      "請輸入運算子-\n",
      "請輸入第二個運算元10\n",
      "-5\n"
     ]
    }
   ],
   "source": [
    "cal()"
   ]
  },
  {
   "cell_type": "code",
   "execution_count": null,
   "metadata": {
    "collapsed": true
   },
   "outputs": [],
   "source": []
  }
 ],
 "metadata": {
  "kernelspec": {
   "display_name": "Python 3",
   "language": "python",
   "name": "python3"
  },
  "language_info": {
   "codemirror_mode": {
    "name": "ipython",
    "version": 3
   },
   "file_extension": ".py",
   "mimetype": "text/x-python",
   "name": "python",
   "nbconvert_exporter": "python",
   "pygments_lexer": "ipython3",
   "version": "3.6.3"
  }
 },
 "nbformat": 4,
 "nbformat_minor": 2
}
